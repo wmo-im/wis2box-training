{
 "cells": [
  {
   "cell_type": "code",
   "execution_count": null,
   "metadata": {},
   "outputs": [],
   "source": [
    "# BLOCK 1 : FIND THE PATH OF THE TROPICAL CYCLONE DATA THAT WAS DOWNLOADER OVER WIS2\n",
    "import os\n",
    "import glob\n",
    "\n",
    "def find_latest_file_with_path(root_dir, sub_path, extension):\n",
    "    # Construct the search pattern to include the specific path and extension\n",
    "    search_pattern = os.path.join(root_dir, '**', sub_path, f'*.{extension}')\n",
    "    # Use glob to find all matching files recursively\n",
    "    matching_files = glob.glob(search_pattern, recursive=True)\n",
    "    if not matching_files:\n",
    "        return None\n",
    "    # Find the latest file based on the modification time\n",
    "    latest_file = max(matching_files, key=os.path.getmtime) \n",
    "    return latest_file\n",
    "\n",
    "# Set the root directory and the specific sub-path\n",
    "root_dir = '/root/downloads'\n",
    "sub_path = 'forecast/medium-range/deterministic/trajectory'\n",
    "extension = 'bin'\n",
    "\n",
    "# Call the function\n",
    "latest_file = find_latest_file_with_path(root_dir, sub_path, extension)\n",
    "\n",
    "if latest_file:\n",
    "    print(f\"The latest .bin file with the path '{sub_path}' is: {latest_file}\")\n",
    "else:\n",
    "    print(f\"No .bin files found with the path '{sub_path}'.\")"
   ]
  },
  {
   "cell_type": "code",
   "execution_count": null,
   "metadata": {},
   "outputs": [],
   "source": [
    "# BLOCK 2 : PARSE THE DATA \n",
    "infile = latest_file\n",
    "\n",
    "import cartopy.crs as ccrs\n",
    "import cartopy.feature as cfeature\n",
    "from cartopy.feature import LAND, OCEAN, COASTLINE\n",
    "from datetime import datetime as dt, timedelta\n",
    "from eccodes import codes_bufr_new_from_file, codes_set, codes_get, codes_get_array, codes_get_double, codes_get_long\n",
    "from eccodes import CODES_MISSING_DOUBLE\n",
    "from functools import partial\n",
    "import json\n",
    "import matplotlib.pyplot as plt\n",
    "import matplotlib.colors as colors\n",
    "from matplotlib import colormaps\n",
    "import numpy as np\n",
    "import pyproj\n",
    "from shapely.geometry import shape, Point, MultiPoint\n",
    "from shapely.ops import transform\n",
    "\n",
    "# set map bounds, this will be updated as part of reading the data\n",
    "bounds = [180,-180, 90, -90]\n",
    "\n",
    "\n",
    "# open and create bufr handle\n",
    "fh = open(infile,\"rb\")\n",
    "bufr = codes_bufr_new_from_file(fh)\n",
    "# unpack\n",
    "codes_set(bufr,\"unpack\",True)\n",
    "compressed = codes_get(bufr, 'compressedData')"
   ]
  }
 ],
 "metadata": {
  "language_info": {
   "name": "python"
  }
 },
 "nbformat": 4,
 "nbformat_minor": 2
}
